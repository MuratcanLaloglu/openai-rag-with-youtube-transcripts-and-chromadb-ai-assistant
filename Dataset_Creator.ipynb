{
  "cells": [
    {
      "cell_type": "code",
      "execution_count": null,
      "metadata": {
        "colab": {
          "base_uri": "https://localhost:8080/"
        },
        "id": "hOk4wXuVBspT",
        "outputId": "29ee3a99-59dc-486a-a987-28eda86a49f5"
      },
      "outputs": [],
      "source": [
        "from googleapiclient.discovery import build\n",
        "\n",
        "API_KEY = 'YOUR API KEY HERE'\n",
        "\n",
        "def get_channel_videos(channel_id):\n",
        "    youtube = build('youtube', 'v3', developerKey=API_KEY)\n",
        "    videos = []\n",
        "    next_page_token = None\n",
        "\n",
        "    while len(videos) < 500:\n",
        "        request = youtube.search().list(\n",
        "            part='snippet',\n",
        "            channelId=channel_id,\n",
        "            maxResults=50,\n",
        "            order='viewCount',\n",
        "            pageToken=next_page_token\n",
        "        )\n",
        "        response = request.execute()\n",
        "        videos += response['items']\n",
        "        next_page_token = response.get('nextPageToken')\n",
        "\n",
        "        if not next_page_token or len(videos) >= 500:\n",
        "            break\n",
        "\n",
        "    videos = videos[:500]\n",
        "\n",
        "    video_links = ['https://www.youtube.com/watch?v=' + video['id']['videoId'] for video in videos if 'videoId' in video['id']]\n",
        "    return video_links\n",
        "\n",
        "# Youtube id\n",
        "CHANNEL_ID = 'UCFMJh-GNxSZf153Ba5NhZmg'\n",
        "\n",
        "video_links = get_channel_videos(CHANNEL_ID)\n",
        "\n",
        "# not defteri yazdır\n",
        "with open('video_links.txt', 'w', encoding='utf-8') as file:\n",
        "    for link in video_links:\n",
        "        file.write(link + '\\n')\n",
        "\n",
        "print('Video links successfully saved in video_links.txt file.')\n"
      ]
    }
  ],
  "metadata": {
    "colab": {
      "provenance": []
    },
    "kernelspec": {
      "display_name": "Python 3",
      "name": "python3"
    },
    "language_info": {
      "name": "python"
    }
  },
  "nbformat": 4,
  "nbformat_minor": 0
}
