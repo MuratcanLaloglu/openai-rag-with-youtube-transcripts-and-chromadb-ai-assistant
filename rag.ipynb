{
  "cells": [
    {
      "cell_type": "code",
      "execution_count": null,
      "metadata": {
        "colab": {
          "base_uri": "https://localhost:8080/"
        },
        "id": "PXaQKh9wrPxu",
        "outputId": "97540e51-693a-4c90-b3fc-40d8737cc2d1"
      },
      "outputs": [],
      "source": [
        "#!pip install langchain-community\n",
        "#!pip install langchain-text-splitters\n",
        "#!pip install langchain\n",
        "#!pip install python-dotenv\n",
        "#!pip install pytube\n",
        "#!pip install langchain-openai\n",
        "#!pip install youtube-transcript-api\n",
        "#!pip install chromadb\n",
        "#!pip install gradio"
      ]
    },
    {
      "cell_type": "code",
      "execution_count": 1,
      "metadata": {
        "colab": {
          "base_uri": "https://localhost:8080/",
          "height": 240
        },
        "id": "INbLjVp616JF",
        "outputId": "e56ad981-e539-4aac-ce93-877c08b56b2c"
      },
      "outputs": [
        {
          "name": "stderr",
          "output_type": "stream",
          "text": [
            "c:\\Users\\quari\\miniconda3\\envs\\nlp\\Lib\\site-packages\\tqdm\\auto.py:21: TqdmWarning: IProgress not found. Please update jupyter and ipywidgets. See https://ipywidgets.readthedocs.io/en/stable/user_install.html\n",
            "  from .autonotebook import tqdm as notebook_tqdm\n"
          ]
        }
      ],
      "source": [
        "from langchain_community.document_loaders import YoutubeLoader\n",
        "from langchain_text_splitters import RecursiveCharacterTextSplitter\n",
        "from langchain.vectorstores import Chroma\n",
        "from langchain_openai import OpenAIEmbeddings, OpenAI\n",
        "from langchain.chains.question_answering import load_qa_chain\n",
        "import gradio as gr\n",
        "from youtube_transcript_api import NoTranscriptFound\n",
        "from dotenv import load_dotenv\n",
        "load_dotenv()\n",
        "import os\n",
        "\n",
        "with open(\"video_link.txt\", \"r\") as file:\n",
        "    urls = file.readlines()\n",
        "    urls = [url.strip() for url in urls]\n",
        "\n",
        "all_data = []\n",
        "\n",
        "for url in urls:\n",
        "    try:\n",
        "        loader = YoutubeLoader.from_youtube_url(\n",
        "            url, add_video_info=False, language=\"tr\", translation=\"en\"\n",
        "        )\n",
        "        text = loader.load_and_split()\n",
        "        text_splitter = RecursiveCharacterTextSplitter(chunk_size=5000, chunk_overlap=0)\n",
        "        data = text_splitter.split_documents(text)\n",
        "\n",
        "        for document in data:\n",
        "            document.page_content = f\"{url}, {document.page_content}\"\n",
        "\n",
        "        all_data.extend(data)\n",
        "    except NoTranscriptFound:\n",
        "        print(f\"No transcript : {url}. skipping...\")"
      ]
    },
    {
      "cell_type": "code",
      "execution_count": 2,
      "metadata": {},
      "outputs": [
        {
          "name": "stderr",
          "output_type": "stream",
          "text": [
            "c:\\Users\\quari\\miniconda3\\envs\\nlp\\Lib\\site-packages\\langchain_core\\_api\\deprecation.py:119: LangChainDeprecationWarning: Since Chroma 0.4.x the manual persistence method is no longer supported as docs are automatically persisted.\n",
            "  warn_deprecated(\n"
          ]
        }
      ],
      "source": [
        "llm = OpenAI(temperature=1, openai_api_key=os.environ.get(\"OPENAI_API_KEY\"))\n",
        "embeddings = OpenAIEmbeddings(openai_api_key=os.environ.get(\"OPENAI_API_KEY\"))\n",
        "\n",
        "db = Chroma.from_documents(all_data, embedding=embeddings, persist_directory=\"test_index\")\n",
        "db.persist()"
      ]
    },
    {
      "cell_type": "code",
      "execution_count": 1,
      "metadata": {},
      "outputs": [
        {
          "name": "stderr",
          "output_type": "stream",
          "text": [
            "c:\\Users\\quari\\miniconda3\\envs\\nlp\\Lib\\site-packages\\tqdm\\auto.py:21: TqdmWarning: IProgress not found. Please update jupyter and ipywidgets. See https://ipywidgets.readthedocs.io/en/stable/user_install.html\n",
            "  from .autonotebook import tqdm as notebook_tqdm\n"
          ]
        }
      ],
      "source": [
        "from langchain_community.document_loaders import YoutubeLoader\n",
        "from langchain_text_splitters import RecursiveCharacterTextSplitter\n",
        "from langchain.vectorstores import Chroma\n",
        "from langchain_openai import OpenAIEmbeddings, OpenAI\n",
        "from langchain.chains.question_answering import load_qa_chain\n",
        "import gradio as gr\n",
        "from youtube_transcript_api import NoTranscriptFound\n",
        "from dotenv import load_dotenv\n",
        "load_dotenv()\n",
        "import os"
      ]
    },
    {
      "cell_type": "code",
      "execution_count": 2,
      "metadata": {},
      "outputs": [],
      "source": [
        "llm = OpenAI(temperature=1, openai_api_key=os.environ.get(\"OPENAI_API_KEY\"))\n",
        "embeddings = OpenAIEmbeddings(openai_api_key=os.environ.get(\"OPENAI_API_KEY\"))"
      ]
    },
    {
      "cell_type": "code",
      "execution_count": 3,
      "metadata": {
        "colab": {
          "base_uri": "https://localhost:8080/",
          "height": 633
        },
        "id": "ZUeem1O38v1z",
        "outputId": "9e1c3a5a-af15-4740-a70b-bb4614382c07"
      },
      "outputs": [
        {
          "name": "stdout",
          "output_type": "stream",
          "text": [
            "Running on local URL:  http://127.0.0.1:7860\n",
            "Running on public URL: https://db6a973b73b4294c44.gradio.live\n",
            "\n",
            "This share link expires in 72 hours. For free permanent hosting and GPU upgrades, run `gradio deploy` from Terminal to deploy to Spaces (https://huggingface.co/spaces)\n"
          ]
        },
        {
          "data": {
            "text/html": [
              "<div><iframe src=\"https://db6a973b73b4294c44.gradio.live\" width=\"100%\" height=\"500\" allow=\"autoplay; camera; microphone; clipboard-read; clipboard-write;\" frameborder=\"0\" allowfullscreen></iframe></div>"
            ],
            "text/plain": [
              "<IPython.core.display.HTML object>"
            ]
          },
          "metadata": {},
          "output_type": "display_data"
        },
        {
          "data": {
            "text/plain": []
          },
          "execution_count": 3,
          "metadata": {},
          "output_type": "execute_result"
        },
        {
          "name": "stderr",
          "output_type": "stream",
          "text": [
            "c:\\Users\\quari\\miniconda3\\envs\\nlp\\Lib\\site-packages\\langchain_core\\_api\\deprecation.py:119: LangChainDeprecationWarning: The method `BaseRetriever.get_relevant_documents` was deprecated in langchain-core 0.1.46 and will be removed in 0.3.0. Use invoke instead.\n",
            "  warn_deprecated(\n",
            "c:\\Users\\quari\\miniconda3\\envs\\nlp\\Lib\\site-packages\\langchain_core\\_api\\deprecation.py:119: LangChainDeprecationWarning: The method `Chain.__call__` was deprecated in langchain 0.1.0 and will be removed in 0.3.0. Use invoke instead.\n",
            "  warn_deprecated(\n"
          ]
        }
      ],
      "source": [
        "vectordb = Chroma(persist_directory=\"test_index\", embedding_function=embeddings)\n",
        "retriever = vectordb.as_retriever(search_kwargs={\"k\": 3})\n",
        "\n",
        "chain = load_qa_chain(llm, chain_type=\"stuff\")\n",
        "\n",
        "def ask(question):\n",
        "    context = retriever.get_relevant_documents(question)\n",
        "    answer = chain({\"input_documents\": context, \"question\": question}, return_only_outputs=True)['output_text']\n",
        "\n",
        "    video_url = context[0].page_content.split(',')[0]\n",
        "\n",
        "    return answer, video_url\n",
        "\n",
        "def get_recipe(question):\n",
        "    answer, video_url = ask(question)\n",
        "    video_iframe = f'<iframe width=\"560\" height=\"315\" src=\"{video_url.replace(\"watch?v=\", \"embed/\")}\" frameborder=\"0\" allow=\"accelerometer; autoplay; clipboard-write; encrypted-media; gyroscope; picture-in-picture\" allowfullscreen></iframe>'\n",
        "    return answer, video_iframe\n",
        "\n",
        "iface = gr.Interface(\n",
        "    fn=get_recipe,\n",
        "    inputs=gr.components.Textbox(lines=2, label=\"Ask a question about a recipe...\"),\n",
        "    outputs=[\n",
        "        gr.components.Textbox(label=\"Recipe\"),\n",
        "        gr.components.HTML(label=\"YouTube Video\"),\n",
        "    ],\n",
        "    title=\"Ne Yesem?\",\n",
        "    description=\"Ask a question about a recipe and get the answer along with a related YouTube video.\",\n",
        ")\n",
        "\n",
        "iface.launch(share=True)\n"
      ]
    }
  ],
  "metadata": {
    "colab": {
      "provenance": []
    },
    "kernelspec": {
      "display_name": "myenv",
      "language": "python",
      "name": "python3"
    },
    "language_info": {
      "codemirror_mode": {
        "name": "ipython",
        "version": 3
      },
      "file_extension": ".py",
      "mimetype": "text/x-python",
      "name": "python",
      "nbconvert_exporter": "python",
      "pygments_lexer": "ipython3",
      "version": "3.11.9"
    }
  },
  "nbformat": 4,
  "nbformat_minor": 0
}
